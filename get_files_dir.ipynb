{
 "cells": [
  {
   "cell_type": "code",
   "execution_count": 1,
   "id": "dbba98ae",
   "metadata": {},
   "outputs": [],
   "source": [
    "import os\n",
    "import numpy as np\n",
    "import pandas as pd"
   ]
  },
  {
   "cell_type": "code",
   "execution_count": 2,
   "id": "c9573de8",
   "metadata": {},
   "outputs": [],
   "source": [
    "path00 = \"./ang00/Simula_0003/\"\n",
    "path15 = \"./ang15/Simula_0002/\"\n",
    "path30 = \"./ang30/Simula_0001/\"\n",
    "path45 = \"./ang45/Simula_0001/\"\n",
    "paths = [path00, path15, path30, path45]"
   ]
  },
  {
   "cell_type": "code",
   "execution_count": 9,
   "id": "05d4d51a",
   "metadata": {},
   "outputs": [],
   "source": [
    "def get_files(path):\n",
    "    entries = os.listdir(path=path)\n",
    "    files = [path+file for file in entries if 'config' in file]\n",
    "    \n",
    "    temps = []\n",
    "    for file in files:\n",
    "        temps.append(float(file.split('config_temp_')[1].split('.dat')[0]))\n",
    "        \n",
    "    df = pd.DataFrame(data=files, columns=[str(len(temps))])\n",
    "    df['temps'] = temps\n",
    "    \n",
    "    return df.sort_values(by='temps', ignore_index=True)"
   ]
  },
  {
   "cell_type": "code",
   "execution_count": 10,
   "id": "cc5ef415",
   "metadata": {},
   "outputs": [],
   "source": [
    "for path in paths:\n",
    "    get_files(path).to_csv(path+'arquivos.csv', index=False)"
   ]
  },
  {
   "cell_type": "code",
   "execution_count": null,
   "id": "f5260e24-1ebf-4b05-a47c-22df4f3e2114",
   "metadata": {},
   "outputs": [],
   "source": []
  }
 ],
 "metadata": {
  "kernelspec": {
   "display_name": "Python 3 (ipykernel)",
   "language": "python",
   "name": "python3"
  },
  "language_info": {
   "codemirror_mode": {
    "name": "ipython",
    "version": 3
   },
   "file_extension": ".py",
   "mimetype": "text/x-python",
   "name": "python",
   "nbconvert_exporter": "python",
   "pygments_lexer": "ipython3",
   "version": "3.9.16"
  }
 },
 "nbformat": 4,
 "nbformat_minor": 5
}
