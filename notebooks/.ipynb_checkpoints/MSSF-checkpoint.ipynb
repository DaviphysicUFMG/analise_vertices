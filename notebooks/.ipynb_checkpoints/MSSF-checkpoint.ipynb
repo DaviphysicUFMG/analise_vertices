{
 "cells": [
  {
   "cell_type": "code",
   "execution_count": 7,
   "id": "31430d1c",
   "metadata": {},
   "outputs": [],
   "source": [
    "import numpy as np\n",
    "import matplotlib.pyplot as plt"
   ]
  },
  {
   "cell_type": "markdown",
   "id": "f3081478",
   "metadata": {},
   "source": [
    "## Componente perpendicular do spin\n",
    "## $$\\vec{S}^{\\perp} = \\vec{S} - (\\hat{q} \\cdot \\vec{S})\\hat{q}$$\n",
    "\n",
    "## $$\\hat{m}^{\\perp} = (\\vec{\\hat{m}} - (\\hat{q} \\cdot \\hat{m})\\hat{q})$$\n",
    "\n",
    "# <span style=\"color:red\"> $$ \\vec{S}^{\\perp} = S \\hat{m}^{\\perp} $$ </span>\n",
    "\n",
    "## Intensidade de espalhamento\n",
    "\n",
    "# $$\\mathcal{I}(\\vec{q}) = \\frac{1}{N} \\sum_{i=1}^N \\sum_{j=1}^N \\vec{S}_i^{\\perp} \\cdot \\vec{S}_j^{\\perp} e^{i\\vec{q}\\cdot(\\vec{r}_i - \\vec{r}j)}$$ \n",
    "\n",
    "## $$\\mathcal{I}(\\vec{q}) = \\frac{1}{N} \\left[ \\sum_{i=1}^N \\vec{S}_i^{\\perp} e^{i\\vec{q}\\cdot\\vec{r}_i} \\right] \\cdot \\left[ \\sum_{j=1}^N \\vec{S}_j^{\\perp} e^{-i\\vec{q}\\cdot\\vec{r}_j} \\right]$$ \n",
    "\n",
    "## $e^{\\pm i\\vec{q}\\cdot\\vec{r}_i} = cos(\\vec{q} \\cdot \\vec{r}_i) \\pm i sin(\\vec{q} \\cdot \\vec{r}_i)$\n",
    "\n",
    "## $\\vec{\\mathcal{A}}(\\vec{q}) = \\sum_{\\alpha = 1}^N \\vec{S}_{\\alpha}^{\\perp} cos(\\vec{q} \\cdot \\vec{r}_{\\alpha})$\n",
    "\n",
    "## $\\vec{\\mathcal{B}}(\\vec{q}) = \\sum_{\\alpha = 1}^N \\vec{S}_{\\alpha}^{\\perp} sin(\\vec{q} \\cdot \\vec{r}_{\\alpha})$\n",
    "\n",
    "## $\\mathcal{I}(\\vec{q}) = \\frac{1}{N} (\\vec{\\mathcal{A}} + i \\vec{\\mathcal{B}}) \\cdot (\\vec{\\mathcal{A}} - i \\vec{\\mathcal{B}}) $\n",
    "\n",
    "# <span style=\"color:red\"> $$\\mathcal{I}(\\vec{q}) = \\frac{1}{N} (\\vec{\\mathcal{A}}^2 + \\vec{\\mathcal{B}}^2)$$ </span>"
   ]
  },
  {
   "cell_type": "code",
   "execution_count": 36,
   "id": "8c2cb926",
   "metadata": {},
   "outputs": [],
   "source": [
    "from math import sqrt, sin, cos\n",
    "\n",
    "def perp_m(mx, my, qx, qy):\n",
    "    mxp = np.zeros([len(qx), len(qy), len(mx)])\n",
    "    myp = np.zeros([len(qx), len(qy), len(my)])\n",
    "    \n",
    "    for i in range(len(qx)):\n",
    "        for j in range(len(qy)):\n",
    "            for k in range(len(mx)):    \n",
    "                qmod = sqrt(qx[i][j]**2 + qy[i][j]**2)\n",
    "    \n",
    "                fac = (mx[k]*qx[i][j] + my[k]*qy[i][j])/qmod\n",
    "                mxp[i][j][k] = mx[k] - fac*qx[i][j]/qmod\n",
    "                mxy[i][j][k] = my[k] - fac*qy[i][j]/qmod\n",
    "    \n",
    "    return mxp, myp"
   ]
  },
  {
   "cell_type": "code",
   "execution_count": 37,
   "id": "3ea83328",
   "metadata": {},
   "outputs": [],
   "source": [
    "def calc_AB(mxp, myp, qx, qy, rx, ry):\n",
    "    Axk = np.zeros([len(qx), len(qy), len(rx)])\n",
    "    Ayk = np.zeros([len(qx), len(qy), len(ry)])\n",
    "    Bxk = np.zeros([len(qx), len(qy), len(rx)])\n",
    "    Byk = np.zeros([len(qx), len(qy), len(ry)])\n",
    "    \n",
    "    for i in range(len(qx)):\n",
    "        for j in range(len(qy)):\n",
    "            for k in range(len(rx)):\n",
    "                fac = qx[i][j]*rx[k] + qy[i][j]*ry[k]\n",
    "                Axk[i][j][k] = mxp[i][j][k]*cos(fac)\n",
    "                Ayk[i][j][k] = myp[i][j][k]*cos(fac)\n",
    "                \n",
    "                Bxk[i][j][k] = mxp[i][j][k]*sin(fac)\n",
    "                Byk[i][j][k] = myp[i][j][k]*sin(fac)\n",
    "                \n",
    "    return Axk, Ayk, Bxk, Byk"
   ]
  },
  {
   "cell_type": "code",
   "execution_count": null,
   "id": "9535b862",
   "metadata": {},
   "outputs": [],
   "source": [
    "def calc_A2B2(S, Axk, Ayk, Bxk, Byk):\n",
    "    Ax = np.zeros([Axk.shape[0], Axk.shape[1]])\n",
    "    Ay = np.zeros([Axk.shape[0], Axk.shape[1]])\n",
    "    Bx = np.zeros([Axk.shape[0], Axk.shape[1]])\n",
    "    By = np.zeros([Axk.shape[0], Axk.shape[1]])\n",
    "    \n",
    "    for i in range(len(Axk.shape[0])):\n",
    "        for j in range(len(Axk.shape[1])):\n",
    "            for k in range(len(S)):\n",
    "                Ax[i][j] += S[k]*Axk[i][j][k]\n",
    "                Ay[i][j] += S[k]*Ayk[i][j][k]\n",
    "                \n",
    "                Bx[i][j] += S[k]*Bxk[i][j][k]\n",
    "                By[i][j] += S[k]*Byk[i][j][k]\n",
    "    \n",
    "    A2 = np.zeros([Axk.shape[0], Axk.shape[1]])\n",
    "    B2 = np.zeros([Axk.shape[0], Axk.shape[1]])\n",
    "    \n",
    "    for i in range(len(Axk.shape[0])):\n",
    "        for j in range(len(Axk.shape[1])):\n",
    "            A2[i][j] = Ax[i][j]**2 + Ay[i][j]**2\n",
    "            B2[i][j] = Bx[i][j]**2 + By[i][j]**2\n",
    "    \n",
    "    return A2, B2\n",
    "    "
   ]
  },
  {
   "cell_type": "code",
   "execution_count": null,
   "id": "2d4a626b",
   "metadata": {},
   "outputs": [],
   "source": [
    "def intensity(S, Axk, Ayk, Bxk, Byk):\n",
    "    Intens = np.zeros([Axk.shape[0], Axk.shape[1]])\n",
    "    \n",
    "    A2, B2 = calc_A2B2(S, Axk, Ayk, Bxk, Byk)\n",
    "    for \n",
    "    "
   ]
  },
  {
   "cell_type": "code",
   "execution_count": 31,
   "id": "2a4acbac",
   "metadata": {},
   "outputs": [],
   "source": [
    "MM = 52\n",
    "qx = np.linspace(-2*np.pi, 2*np.pi, MM)\n",
    "qy = np.linspace(-2*np.pi, 2*np.pi, MM)\n",
    "qx, qy = np.meshgrid(qx, qy)"
   ]
  },
  {
   "cell_type": "code",
   "execution_count": 43,
   "id": "5a2ca3a7",
   "metadata": {},
   "outputs": [
    {
     "data": {
      "text/plain": [
       "4"
      ]
     },
     "execution_count": 43,
     "metadata": {},
     "output_type": "execute_result"
    }
   ],
   "source": [
    "a = np.ones([4, 5, 7])\n",
    "a.shape[0]"
   ]
  },
  {
   "cell_type": "code",
   "execution_count": null,
   "id": "21766c41",
   "metadata": {},
   "outputs": [],
   "source": []
  }
 ],
 "metadata": {
  "kernelspec": {
   "display_name": "Python 3 (ipykernel)",
   "language": "python",
   "name": "python3"
  },
  "language_info": {
   "codemirror_mode": {
    "name": "ipython",
    "version": 3
   },
   "file_extension": ".py",
   "mimetype": "text/x-python",
   "name": "python",
   "nbconvert_exporter": "python",
   "pygments_lexer": "ipython3",
   "version": "3.9.16"
  }
 },
 "nbformat": 4,
 "nbformat_minor": 5
}
